{
 "cells": [
  {
   "cell_type": "markdown",
   "id": "53f1953a",
   "metadata": {},
   "source": [
    "# Computational Theory Assessment G00417529"
   ]
  },
  {
   "cell_type": "markdown",
   "id": "902ad5e1",
   "metadata": {},
   "source": [
    "# Imports"
   ]
  },
  {
   "cell_type": "code",
   "execution_count": 9,
   "id": "907c4369",
   "metadata": {},
   "outputs": [],
   "source": [
    "import numpy as np"
   ]
  },
  {
   "cell_type": "markdown",
   "id": "35b9cac0",
   "metadata": {},
   "source": [
    "## Problem 1: Binary Words and Operations"
   ]
  },
  {
   "cell_type": "markdown",
   "id": "21c79a1d",
   "metadata": {},
   "source": [
    "### 1.1 Parity Function"
   ]
  },
  {
   "cell_type": "code",
   "execution_count": null,
   "id": "40a9eef3",
   "metadata": {},
   "outputs": [],
   "source": [
    "def Parity(x: np.uint32, y: np.uint32, z: np.uint32) -> np.uint32:\n",
    "    \"\"\"\n",
    "    Opperation:\n",
    "        Applies bitwise eclusive or (XOR) to three 32-bit unsigned integers (x, y, z).\n",
    "\n",
    "    Arguments:\n",
    "        x: First 32-bit unsigned integer.\n",
    "        y: Second 32-bit unsigned integer.\n",
    "        z: Third 32-bit unsigned integer.\n",
    "\n",
    "    Returns: \n",
    "        result of opperation as numpy unsighed 32-bit integer format.\n",
    "    \"\"\"\n",
    "    return x ^ y ^ z"
   ]
  },
  {
   "cell_type": "markdown",
   "id": "7aa1e91a",
   "metadata": {},
   "source": [
    "## Problem 2: Fractional Parts of Cube Roots"
   ]
  },
  {
   "cell_type": "code",
   "execution_count": null,
   "id": "5617fa5c",
   "metadata": {},
   "outputs": [],
   "source": []
  },
  {
   "cell_type": "markdown",
   "id": "36d0a0a4",
   "metadata": {},
   "source": [
    "## Problem 3: Padding"
   ]
  },
  {
   "cell_type": "code",
   "execution_count": null,
   "id": "ecefcb69",
   "metadata": {},
   "outputs": [],
   "source": []
  },
  {
   "cell_type": "markdown",
   "id": "a6a1145d",
   "metadata": {},
   "source": [
    "## Problem 4: Hashes"
   ]
  },
  {
   "cell_type": "code",
   "execution_count": null,
   "id": "3e14b82c",
   "metadata": {},
   "outputs": [],
   "source": []
  },
  {
   "cell_type": "markdown",
   "id": "353e1168",
   "metadata": {},
   "source": [
    "## Problem 5: Passwords"
   ]
  },
  {
   "cell_type": "code",
   "execution_count": null,
   "id": "13e71e7b",
   "metadata": {},
   "outputs": [],
   "source": []
  }
 ],
 "metadata": {
  "kernelspec": {
   "display_name": "Python 3",
   "language": "python",
   "name": "python3"
  },
  "language_info": {
   "codemirror_mode": {
    "name": "ipython",
    "version": 3
   },
   "file_extension": ".py",
   "mimetype": "text/x-python",
   "name": "python",
   "nbconvert_exporter": "python",
   "pygments_lexer": "ipython3",
   "version": "3.12.5"
  }
 },
 "nbformat": 4,
 "nbformat_minor": 5
}
