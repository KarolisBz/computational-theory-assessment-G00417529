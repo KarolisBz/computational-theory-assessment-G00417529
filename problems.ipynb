{
 "cells": [
  {
   "cell_type": "markdown",
   "id": "53f1953a",
   "metadata": {},
   "source": [
    "# Computational Theory Assessment G00417529"
   ]
  },
  {
   "cell_type": "markdown",
   "id": "902ad5e1",
   "metadata": {},
   "source": [
    "# Imports"
   ]
  },
  {
   "cell_type": "code",
   "execution_count": 2,
   "id": "907c4369",
   "metadata": {},
   "outputs": [],
   "source": [
    "import numpy as np\n",
    "import unittest"
   ]
  },
  {
   "cell_type": "markdown",
   "id": "35b9cac0",
   "metadata": {},
   "source": [
    "## Problem 1: Binary Words and Operations"
   ]
  },
  {
   "cell_type": "markdown",
   "id": "25e04378",
   "metadata": {},
   "source": [
    "## Introduction\n",
    "This section defines technical terms used for problem 1 solutions\n",
    "\n",
    "### Bitwise Terms and Operations\n",
    "**Bitwise Operations** are actions directly applied to individual bits of binary numbers. <br>\n",
    "**Bineary Words** are the natural unit of data a computer CPU can process with fixed lengths like 32bits (4 bytes) or 64 bits (8 bytes) <br><br>\n",
    "\n",
    "**Bitwise AND (`&`)**<br>\n",
    "Compares each bit of two **binary words**.\n",
    "\n",
    "For every bit position:\n",
    "- The result bit is `1` only if both corresponding bits in the operands are `1`.\n",
    "- Otherwise, the result bit is `0`.\n",
    "\n",
    "| X | Y | X & Y |\n",
    "|:------:|:------:|:------:|\n",
    "| 0 | 0 | 0 |\n",
    "| 0 | 1 | 0 |\n",
    "| 1 | 1 | 1 |"
   ]
  },
  {
   "cell_type": "markdown",
   "id": "21c79a1d",
   "metadata": {},
   "source": [
    "### 1.1 Parity Function\n",
    "$\\text{Parity}(x, y, z) = x \\oplus y \\oplus z$\n",
    "\n",
    "#### 1.11 Design Decisions\n",
    "I chose to statically define all parameter types as NumPy 32-bit unsigned integers **(np.uint32)** to avoid writing defensive runtime checks and to improve performance.\n",
    "In the Secure Hash Standard, this function would be called millions of times per hash computation. While this notebook is primarily meant to demonstrate functionality and could therefore benefit from more flexible, dynamically typed inputs I believe performance is just as critical as correctness in these bitwise operations. After all, these functions are designed to operate at the bit level for efficiency and precision; type checking them with expensive calls would defeat the purpose."
   ]
  },
  {
   "cell_type": "code",
   "execution_count": 9,
   "id": "40a9eef3",
   "metadata": {},
   "outputs": [],
   "source": [
    "def Parity(x: np.uint32, y: np.uint32, z: np.uint32) -> np.uint32:\n",
    "    \"\"\"\n",
    "    Operation:\n",
    "        Applies bitwise eclusive or (XOR) to three 32-bit unsigned integers (x, y, z).\n",
    "        For each bit position of x, y and z:\n",
    "            - if an odd number of bits are 1, the result is 1\n",
    "            - if an even number of bits are 1, the result is 0\n",
    "\n",
    "    Parameters:\n",
    "        (all arguments are of numpy unsigned 32-bit integer type)\n",
    "        x: First integer\n",
    "        y: Second integer.\n",
    "        z: Third integer.\n",
    "\n",
    "    Returns: \n",
    "        result of 'Operation' as numpy unsigned 32-bit integer.\n",
    "    \"\"\"\n",
    "\n",
    "    # Apply bitwise XOR to the three integers and return the result\n",
    "    return x ^ y ^ z"
   ]
  },
  {
   "cell_type": "markdown",
   "id": "6b77530c",
   "metadata": {},
   "source": [
    "### 1.11 Parity test cases"
   ]
  },
  {
   "cell_type": "code",
   "execution_count": 10,
   "id": "d7a9d690",
   "metadata": {},
   "outputs": [
    {
     "name": "stderr",
     "output_type": "stream",
     "text": [
      ".\n",
      "----------------------------------------------------------------------\n",
      "Ran 1 test in 0.001s\n",
      "\n",
      "OK\n"
     ]
    },
    {
     "data": {
      "text/plain": [
       "<unittest.main.TestProgram at 0x2c394876660>"
      ]
     },
     "execution_count": 10,
     "metadata": {},
     "output_type": "execute_result"
    }
   ],
   "source": [
    "# Unit tests for the Parity method.\n",
    "class TestParityd(unittest.TestCase):\n",
    "\n",
    "     def test_base_cases(self):\n",
    "        \"\"\"Verify basic XOR combinations.\"\"\"\n",
    "        \n",
    "        # 0 XOR 0 XOR 0 = 0\n",
    "        x1, y1, z1 = np.uint32(0), np.uint32(0), np.uint32(0)\n",
    "        expected1 = np.uint32(0)\n",
    "        self.assertEqual(Parity(x1, y1, z1), expected1, \"Failed on all zeros\")\n",
    "\n",
    "        # 1 XOR 0 XOR 0 = 1\n",
    "        x2, y2, z2 = np.uint32(1), np.uint32(0), np.uint32(0)\n",
    "        expected2 = np.uint32(1)\n",
    "        self.assertEqual(Parity(x2, y2, z2), expected2, \"Failed when only x=1\")\n",
    "\n",
    "        # 1 XOR 1 XOR 0 = 0\n",
    "        x3, y3, z3 = np.uint32(1), np.uint32(1), np.uint32(0)\n",
    "        expected3 = np.uint32(0)\n",
    "        self.assertEqual(Parity(x3, y3, z3), expected3, \"Failed on even number of 1s\")\n",
    "\n",
    "        # 1 XOR 1 XOR 1 = 1\n",
    "        x4, y4, z4 = np.uint32(1), np.uint32(1), np.uint32(1)\n",
    "        expected4 = np.uint32(1)\n",
    "        self.assertEqual(Parity(x4, y4, z4), expected4, \"Failed on odd number of 1s\")\n",
    "\n",
    "# Allows test to run inside ipynb notebook\n",
    "# We prevent it from taking notebook arguments and from exiting prematurely\n",
    "unittest.main(argv=[''], exit=False)"
   ]
  },
  {
   "cell_type": "markdown",
   "id": "107f4613",
   "metadata": {},
   "source": [
    "## 1.2 Ch Function"
   ]
  },
  {
   "cell_type": "code",
   "execution_count": 5,
   "id": "fb410590",
   "metadata": {},
   "outputs": [],
   "source": [
    "def Ch(x: np.uint32, y: np.uint32, z: np.uint32) -> np.uint32:\n",
    "    return (x )"
   ]
  },
  {
   "cell_type": "markdown",
   "id": "7aa1e91a",
   "metadata": {},
   "source": [
    "## Problem 2: Fractional Parts of Cube Roots"
   ]
  },
  {
   "cell_type": "code",
   "execution_count": null,
   "id": "5617fa5c",
   "metadata": {},
   "outputs": [],
   "source": []
  },
  {
   "cell_type": "markdown",
   "id": "36d0a0a4",
   "metadata": {},
   "source": [
    "## Problem 3: Padding"
   ]
  },
  {
   "cell_type": "code",
   "execution_count": null,
   "id": "ecefcb69",
   "metadata": {},
   "outputs": [],
   "source": []
  },
  {
   "cell_type": "markdown",
   "id": "a6a1145d",
   "metadata": {},
   "source": [
    "## Problem 4: Hashes"
   ]
  },
  {
   "cell_type": "code",
   "execution_count": null,
   "id": "3e14b82c",
   "metadata": {},
   "outputs": [],
   "source": []
  },
  {
   "cell_type": "markdown",
   "id": "353e1168",
   "metadata": {},
   "source": [
    "## Problem 5: Passwords"
   ]
  },
  {
   "cell_type": "code",
   "execution_count": null,
   "id": "13e71e7b",
   "metadata": {},
   "outputs": [],
   "source": []
  }
 ],
 "metadata": {
  "kernelspec": {
   "display_name": "Python 3",
   "language": "python",
   "name": "python3"
  },
  "language_info": {
   "codemirror_mode": {
    "name": "ipython",
    "version": 3
   },
   "file_extension": ".py",
   "mimetype": "text/x-python",
   "name": "python",
   "nbconvert_exporter": "python",
   "pygments_lexer": "ipython3",
   "version": "3.12.5"
  }
 },
 "nbformat": 4,
 "nbformat_minor": 5
}
