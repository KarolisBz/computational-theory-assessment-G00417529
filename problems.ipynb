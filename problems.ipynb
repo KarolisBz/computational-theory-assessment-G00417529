{
 "cells": [
  {
   "cell_type": "markdown",
   "id": "53f1953a",
   "metadata": {},
   "source": [
    "# Computational Theory Assessment G00417529"
   ]
  },
  {
   "cell_type": "markdown",
   "id": "902ad5e1",
   "metadata": {},
   "source": [
    "# Imports"
   ]
  },
  {
   "cell_type": "code",
   "execution_count": 50,
   "id": "907c4369",
   "metadata": {},
   "outputs": [],
   "source": [
    "import numpy as np\n",
    "import unittest\n",
    "import math"
   ]
  },
  {
   "cell_type": "markdown",
   "id": "35b9cac0",
   "metadata": {},
   "source": [
    "## Problem 1: Binary Words and Operations"
   ]
  },
  {
   "cell_type": "markdown",
   "id": "25e04378",
   "metadata": {},
   "source": [
    "## Introduction\n",
    "1. Explain binary words and operations and how they link to SHA  \n",
    "2. explain/show each binary operation for referance in code"
   ]
  },
  {
   "cell_type": "markdown",
   "id": "21c79a1d",
   "metadata": {},
   "source": [
    "### 1.1 Parity Function"
   ]
  },
  {
   "cell_type": "code",
   "execution_count": 51,
   "id": "40a9eef3",
   "metadata": {},
   "outputs": [],
   "source": [
    "def Parity(x: np.uint32, y: np.uint32, z: np.uint32) -> np.uint32:\n",
    "    \"\"\"\n",
    "    Opperation:\n",
    "        Applies bitwise eclusive or (XOR) to three 32-bit unsigned integers (x, y, z).\n",
    "\n",
    "    Arguments:\n",
    "        x: First 32-bit unsigned integer.\n",
    "        y: Second 32-bit unsigned integer.\n",
    "        z: Third 32-bit unsigned integer.\n",
    "\n",
    "    Returns: \n",
    "        result of opperation as numpy unsighed 32-bit integer format.\n",
    "    \"\"\"\n",
    "    return x ^ y ^ z"
   ]
  },
  {
   "cell_type": "markdown",
   "id": "6b77530c",
   "metadata": {},
   "source": [
    "## 1.11 Parity test cases"
   ]
  },
  {
   "cell_type": "code",
   "execution_count": null,
   "id": "d7a9d690",
   "metadata": {},
   "outputs": [
    {
     "name": "stderr",
     "output_type": "stream",
     "text": [
      "....\n",
      "----------------------------------------------------------------------\n",
      "Ran 4 tests in 0.004s\n",
      "\n",
      "OK\n"
     ]
    },
    {
     "name": "stdout",
     "output_type": "stream",
     "text": [
      "running\n"
     ]
    },
    {
     "data": {
      "text/plain": [
       "<unittest.main.TestProgram at 0x7d5480c0a510>"
      ]
     },
     "execution_count": 56,
     "metadata": {},
     "output_type": "execute_result"
    }
   ],
   "source": [
    "# we have 2 options for tests, unit tests and ipy tests\n",
    "# I will be using ipy tests as they're simpler and more appropriate for an assement where all the testing is done inside 1 notebook\n",
    "# It's shorter and cleaner syntax\n",
    "# EXPLAIN AND SHOW EXAMPLE LATER OF 2 DIFFERENCES in seperate section\n",
    "\n",
    "class TestParityMethod(unittest.TestCase):\n",
    "\n",
    "    def test_unit_tests(self):\n",
    "        print(\"running\")\n",
    "\n",
    "    def multi_unit_test_run(self):\n",
    "        print(\"multi test\")\n",
    "\n",
    "unittest.main(argv=[''], exit=False)"
   ]
  },
  {
   "cell_type": "markdown",
   "id": "7aa1e91a",
   "metadata": {},
   "source": [
    "## Problem 2: Fractional Parts of Cube Roots"
   ]
  },
  {
   "cell_type": "code",
   "execution_count": null,
   "id": "5617fa5c",
   "metadata": {},
   "outputs": [],
   "source": []
  },
  {
   "cell_type": "markdown",
   "id": "36d0a0a4",
   "metadata": {},
   "source": [
    "## Problem 3: Padding"
   ]
  },
  {
   "cell_type": "code",
   "execution_count": null,
   "id": "ecefcb69",
   "metadata": {},
   "outputs": [],
   "source": []
  },
  {
   "cell_type": "markdown",
   "id": "a6a1145d",
   "metadata": {},
   "source": [
    "## Problem 4: Hashes"
   ]
  },
  {
   "cell_type": "code",
   "execution_count": null,
   "id": "3e14b82c",
   "metadata": {},
   "outputs": [],
   "source": []
  },
  {
   "cell_type": "markdown",
   "id": "353e1168",
   "metadata": {},
   "source": [
    "## Problem 5: Passwords"
   ]
  },
  {
   "cell_type": "code",
   "execution_count": null,
   "id": "13e71e7b",
   "metadata": {},
   "outputs": [],
   "source": []
  }
 ],
 "metadata": {
  "kernelspec": {
   "display_name": "Python 3",
   "language": "python",
   "name": "python3"
  },
  "language_info": {
   "codemirror_mode": {
    "name": "ipython",
    "version": 3
   },
   "file_extension": ".py",
   "mimetype": "text/x-python",
   "name": "python",
   "nbconvert_exporter": "python",
   "pygments_lexer": "ipython3",
   "version": "3.12.1"
  }
 },
 "nbformat": 4,
 "nbformat_minor": 5
}
