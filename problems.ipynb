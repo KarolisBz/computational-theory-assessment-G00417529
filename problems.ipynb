{
 "cells": [
  {
   "cell_type": "markdown",
   "id": "53f1953a",
   "metadata": {},
   "source": [
    "# **Computational Theory Assessment G00417529**"
   ]
  },
  {
   "cell_type": "markdown",
   "id": "902ad5e1",
   "metadata": {},
   "source": [
    "# **Imports**"
   ]
  },
  {
   "cell_type": "code",
   "execution_count": 1405,
   "id": "907c4369",
   "metadata": {},
   "outputs": [],
   "source": [
    "# numpy and unittest imports\n",
    "import numpy as np\n",
    "import unittest\n",
    "# 32-bit unsigned integer alies to reduce verbosity of notebook\n",
    "u32 = np.uint32\n",
    "# Decorator for decorators, keeps function metadata intact\n",
    "from functools import wraps\n",
    "# Used for benchmarking function performance\n",
    "import timeit\n"
   ]
  },
  {
   "cell_type": "markdown",
   "id": "0c81c6a9",
   "metadata": {},
   "source": [
    "## **Introduction**\n",
    "This section defines technical terms used for all the solutions in this notebook\n",
    "\n",
    "### **Bitwise Terms and Operations**\n",
    "**Bitwise Operations** are actions directly applied to individual bits of binary numbers. <br>\n",
    "**Binary Words** are the natural unit of data a computer CPU can process with fixed lengths like 32bits (4 bytes) or 64 bits (8 bytes) <br><br>\n",
    "\n",
    "**Bitwise AND ($\\land$)/(`&`)**<br>\n",
    "Compares each bit of two **binary words**.\n",
    "\n",
    "For every bit position:\n",
    "- The result bit is `1` only if both corresponding bits in the operands are `1`.\n",
    "- Otherwise, the result bit is `0`.\n",
    "\n",
    "<table style=\"border: 1px solid black; border-collapse: collapse; text-align: center; padding: 8px;\">\n",
    "  <tr>\n",
    "    <th style=\"border: 1px solid black;\">X</th>\n",
    "    <th style=\"border: 1px solid black;\">Y</th>\n",
    "    <th style=\"border: 1px solid black;\">X & Y</th>\n",
    "  </tr>\n",
    "  <tr>\n",
    "    <td style=\"border: 1px solid black;\">0</td>\n",
    "    <td style=\"border: 1px solid black;\">0</td>\n",
    "    <td style=\"border: 1px solid black;\">0</td>\n",
    "  </tr>\n",
    "  <tr>\n",
    "    <td style=\"border: 1px solid black;\">0</td>\n",
    "    <td style=\"border: 1px solid black;\">1</td>\n",
    "    <td style=\"border: 1px solid black;\">0</td>\n",
    "  </tr>\n",
    "  <tr>\n",
    "    <td style=\"border: 1px solid black;\">1</td>\n",
    "    <td style=\"border: 1px solid black;\">1</td>\n",
    "    <td style=\"border: 1px solid black;\">1</td>\n",
    "  </tr>\n",
    "</table><br>\n",
    "\n",
    "**Bitwise OR (`|`)**<br>\n",
    "For every bit position:\n",
    "- The bit result is `1` if either bit is `1`.\n",
    "- Otherwise, the result bit is `0`.\n",
    "\n",
    "<table style=\"border: 1px solid black; border-collapse: collapse; text-align: center; padding: 8px;\">\n",
    "  <tr>\n",
    "    <th style=\"border: 1px solid black;\">X</th>\n",
    "    <th style=\"border: 1px solid black;\">Y</th>\n",
    "    <th style=\"border: 1px solid black;\">X | Y</th>\n",
    "  </tr>\n",
    "  <tr>\n",
    "    <td style=\"border: 1px solid black;\">0</td>\n",
    "    <td style=\"border: 1px solid black;\">0</td>\n",
    "    <td style=\"border: 1px solid black;\">0</td>\n",
    "  </tr>\n",
    "  <tr>\n",
    "    <td style=\"border: 1px solid black;\">0</td>\n",
    "    <td style=\"border: 1px solid black;\">1</td>\n",
    "    <td style=\"border: 1px solid black;\">1</td>\n",
    "  </tr>\n",
    "  <tr>\n",
    "    <td style=\"border: 1px solid black;\">1</td>\n",
    "    <td style=\"border: 1px solid black;\">1</td>\n",
    "    <td style=\"border: 1px solid black;\">1</td>\n",
    "  </tr>\n",
    "</table><br>\n",
    "\n",
    "**Bitwise XOR ($\\oplus$)/(`^`)**<br>\n",
    "For every bit position:\n",
    "- The bit result is `1` if both bits are different.\n",
    "- Otherwise, the result bit is `0`.\n",
    "\n",
    "<table style=\"border: 1px solid black; border-collapse: collapse; text-align: center; padding: 8px;\">\n",
    "  <tr>\n",
    "    <th style=\"border: 1px solid black;\">X</th>\n",
    "    <th style=\"border: 1px solid black;\">Y</th>\n",
    "    <th style=\"border: 1px solid black;\">X ^ Y</th>\n",
    "  </tr>\n",
    "  <tr>\n",
    "    <td style=\"border: 1px solid black;\">0</td>\n",
    "    <td style=\"border: 1px solid black;\">0</td>\n",
    "    <td style=\"border: 1px solid black;\">0</td>\n",
    "  </tr>\n",
    "  <tr>\n",
    "    <td style=\"border: 1px solid black;\">0</td>\n",
    "    <td style=\"border: 1px solid black;\">1</td>\n",
    "    <td style=\"border: 1px solid black;\">1</td>\n",
    "  </tr>\n",
    "  <tr>\n",
    "    <td style=\"border: 1px solid black;\">1</td>\n",
    "    <td style=\"border: 1px solid black;\">1</td>\n",
    "    <td style=\"border: 1px solid black;\">0</td>\n",
    "  </tr>\n",
    "</table><br>\n",
    "\n",
    "**Bitwise NOT (`~`)**<br>\n",
    "Flips every bit (`0→1`, `1→0`)\n",
    "\n",
    "<table style=\"border: 1px solid black; border-collapse: collapse; text-align: center; padding: 8px;\">\n",
    "  <tr>\n",
    "    <th style=\"border: 1px solid black;\">X</th>\n",
    "    <th style=\"border: 1px solid black;\">~X</th>\n",
    "  </tr>\n",
    "  <tr>\n",
    "    <td style=\"border: 1px solid black;\">0</td>\n",
    "    <td style=\"border: 1px solid black;\">1</td>\n",
    "  </tr>\n",
    "  <tr>\n",
    "    <td style=\"border: 1px solid black;\">1</td>\n",
    "    <td style=\"border: 1px solid black;\">0</td>\n",
    "  </tr>\n",
    "</table><br>"
   ]
  },
  {
   "cell_type": "markdown",
   "id": "3a9e0df8",
   "metadata": {},
   "source": [
    "## **Helper Functions**\n",
    "Used to avoid duplicate code throughout solutions\n",
    "\n",
    "### Local Unit Test Runner\n",
    "Prevents variable redeclaration when running a specific test suite"
   ]
  },
  {
   "cell_type": "code",
   "execution_count": 1406,
   "id": "a51aee91",
   "metadata": {},
   "outputs": [],
   "source": [
    "def run_local_scope_tests(test_class, verbosity_lvl=0):\n",
    "    \"\"\"\n",
    "    Runs specific unittest.TestCase without redeclaring variables in the global scope.\n",
    "\n",
    "    Parameters:\n",
    "        test_class : unittest.TestCase\n",
    "            The test class containing test methods.\n",
    "        verbosity_lvl : int, optional\n",
    "            Verbosity level for the test runner (default is 0).\n",
    "\n",
    "    Returns:\n",
    "        result : unittest.result.TestResult\n",
    "            The result object containing information about the tests run.\n",
    "    \"\"\"\n",
    "\n",
    "    # Load all test methods from the given TestCase class\n",
    "    suite = unittest.TestLoader().loadTestsFromTestCase(test_class)\n",
    "\n",
    "    # Create a test runner with the specified verbosity\n",
    "    runner = unittest.TextTestRunner(verbosity=verbosity_lvl)\n",
    "\n",
    "    # Run the test suite and return the result\n",
    "    return runner.run(suite)"
   ]
  },
  {
   "cell_type": "markdown",
   "id": "90bc0504",
   "metadata": {},
   "source": [
    "### Conversion Decorator\n",
    "Automatically converts all plain int parameters of a given function into np.uint32 values, eliminating the need to implement individual type-checking logic for each method."
   ]
  },
  {
   "cell_type": "code",
   "execution_count": 1407,
   "id": "d7cb6d85",
   "metadata": {},
   "outputs": [],
   "source": [
    "# Constants for 32-bit unsigned integer range\n",
    "U32_MAX = 2**32 - 1  # Maximum value that can be represented by an unsigned 32-bit integer\n",
    "U32_MIN = 0          # Minimum value for an unsigned 32-bit integer (always 0)\n",
    "\n",
    "def convert_to_u32(value: int) -> np.uint32:\n",
    "    \"\"\"\n",
    "    Convert an integer to np.uint32, ensuring it fits within the valid 32-bit unsigned range.\n",
    "\n",
    "    Parameters:\n",
    "        value : int\n",
    "            The integer value to be converted.\n",
    "\n",
    "    Returns:\n",
    "        np.uint32\n",
    "            The converted 32-bit unsigned integer.\n",
    "\n",
    "    Raises:\n",
    "        ValueError\n",
    "            If the input integer is outside the (0 to 2**32 - 1) range.\n",
    "    \"\"\"\n",
    "\n",
    "    # Check that the value is within the allowed 32-bit unsigned integer range.\n",
    "    # If not, raise an error to prevent silent overflow or data corruption.\n",
    "    if (U32_MIN > value or value > U32_MAX):\n",
    "        raise ValueError(f\"Value {value} out of range for np.uint32.\")\n",
    "\n",
    "    # Safe to cast: convert Python int to NumPy's 32-bit unsigned integer type.\n",
    "    return np.uint32(value)\n"
   ]
  },
  {
   "cell_type": "code",
   "execution_count": null,
   "id": "4942acd6",
   "metadata": {},
   "outputs": [],
   "source": [
    "def force_u32(func):\n",
    "    \"\"\"\n",
    "    Decorator that automatically converts all integer arguments passed to a function\n",
    "    into np.uint32 to reduce verbosity and improve convenience.\n",
    "\n",
    "    Purpose:\n",
    "        - Simplifies code by automatically handling type conversion.\n",
    "        - Prevents type errors by ensuring all integer inputs fit within 32-bit unsigned range.\n",
    "        - Reduces repetitive code: validation is done once, here.\n",
    "\n",
    "    Usage:\n",
    "        Apply @force_u32 to functions that would normally take np.unit32 parameters and are called sapringly.\n",
    "        This should not be used for performance-critical internal functions.\n",
    "        When type is garanteed, don't use this decorator.\n",
    "    \"\"\"\n",
    "\n",
    "    # Preserve metadata of the original function (name, docstring, etc.)\n",
    "    # This ensures tools like `help()`, stack traces, and introspection reflect the original function.\n",
    "    @wraps(func)\n",
    "    def wrapper(*args, **kwargs):\n",
    "        \"\"\"\n",
    "        Wrapper function that intercepts all arguments passed to the decorated function,\n",
    "        converts plain integers to np.uint32 (with bounds checking), and then calls the original.\n",
    "        \"\"\"\n",
    "\n",
    "        # --------- Convert positional arguments ---------\n",
    "        # Iterate through all positional arguments (collected in the `args` tuple)\n",
    "        # If an argument is a plain Python int, convert it to np.uint32 using the validated converter.\n",
    "        # Non-int arguments (e.g., np.uint32, floats, strings) are passed through unchanged.\n",
    "        new_args = tuple(\n",
    "            convert_to_u32(a) if isinstance(a, int) else a\n",
    "            for a in args\n",
    "        )\n",
    "\n",
    "        # --------- Convert keyword arguments ---------\n",
    "        # Similarly process keyword arguments (stored in the `kwargs` dict).\n",
    "        # Each value is checked and converted if it’s an int.\n",
    "        new_kwargs = {\n",
    "            key: convert_to_u32(value) if isinstance(value, int) else value\n",
    "            for key, value in kwargs.items()\n",
    "        }\n",
    "\n",
    "        # --------- Call the original function ---------\n",
    "        # After all conversions are done, call the original function `func`\n",
    "        # using the safely converted arguments.\n",
    "        return func(*new_args, **new_kwargs)\n",
    "\n",
    "    # Return the wrapper so it replaces the original function definition.\n",
    "    return wrapper\n"
   ]
  },
  {
   "cell_type": "markdown",
   "id": "cd716da9",
   "metadata": {},
   "source": [
    "### Decorator (force_u32) Tests\n",
    "#### Internal, fast functions (undecorated)"
   ]
  },
  {
   "cell_type": "code",
   "execution_count": 1409,
   "id": "0cb00230",
   "metadata": {},
   "outputs": [],
   "source": [
    "# --- Internal, fast functions (undecorated) ---\n",
    "def add(x: u32, y: u32) -> u32:\n",
    "    \"\"\"Add two np.uint32 numbers.\"\"\"\n",
    "    return x + y\n",
    "\n",
    "def multiply(x: u32, y: u32) -> u32:\n",
    "    \"\"\"Multiply two np.uint32 numbers.\"\"\"\n",
    "    return x * y"
   ]
  },
  {
   "cell_type": "markdown",
   "id": "77594404",
   "metadata": {},
   "source": [
    "#### User-facing, safe but slower functions (decorated)"
   ]
  },
  {
   "cell_type": "code",
   "execution_count": 1410,
   "id": "da187673",
   "metadata": {},
   "outputs": [],
   "source": [
    "# --- User-facing, safe but slower functions (decorated) ---\n",
    "@force_u32\n",
    "def add_user_facing(x: int, y: int) -> u32:\n",
    "    \"\"\"User-facing add function, converts int inputs to np.uint32 automatically.\"\"\"\n",
    "    return add(x, y)\n",
    "\n",
    "@force_u32\n",
    "def multiply_user_facing(x: int, y: int) -> u32:\n",
    "    \"\"\"User-facing multiply function, converts int inputs to np.uint32 automatically.\"\"\"\n",
    "    return multiply(x, y)"
   ]
  },
  {
   "cell_type": "markdown",
   "id": "0bdd0a16",
   "metadata": {},
   "source": [
    "#### Decorator Unit Tests"
   ]
  },
  {
   "cell_type": "code",
   "execution_count": 1411,
   "id": "f1d25a8e",
   "metadata": {},
   "outputs": [
    {
     "name": "stderr",
     "output_type": "stream",
     "text": [
      "----------------------------------------------------------------------\n",
      "Ran 5 tests in 0.000s\n",
      "\n",
      "OK\n"
     ]
    },
    {
     "data": {
      "text/plain": [
       "<unittest.runner.TextTestResult run=5 errors=0 failures=0>"
      ]
     },
     "execution_count": 1411,
     "metadata": {},
     "output_type": "execute_result"
    }
   ],
   "source": [
    "\n",
    "class TestForceU32(unittest.TestCase):\n",
    "\n",
    "    def test_alising(self):\n",
    "        \"\"\"Test that u32 alias works correctly\"\"\"\n",
    "        self.assertEqual(u32(5), np.uint32(5))\n",
    "        self.assertIsInstance(u32(5), np.uint32)\n",
    "    \n",
    "    def test_add_user_facing(self):\n",
    "        \"\"\"Test positional args for add_user_facing\"\"\"\n",
    "        result = add_user_facing(7, 3)\n",
    "        self.assertEqual(result, 10)\n",
    "        self.assertIsInstance(result, np.uint32)\n",
    "    \n",
    "    def test_multiply_user_facing(self):\n",
    "        \"\"\"Test positional args for multiply_user_facing\"\"\"\n",
    "        result = multiply_user_facing(3, 7)\n",
    "        self.assertEqual(result, 21)\n",
    "        self.assertIsInstance(result, np.uint32)\n",
    "\n",
    "    def test_keyword_args(self):\n",
    "        \"\"\"Test that keyword arguments are converted\"\"\"\n",
    "        result = add_user_facing(x=66, y=11)\n",
    "        self.assertEqual(result, 77)\n",
    "        self.assertIsInstance(result, np.uint32)\n",
    "\n",
    "    def test_mixed_args(self):\n",
    "        \"\"\"Test combination of positional and keyword arguments\"\"\"\n",
    "        result = multiply_user_facing(10, y=3)\n",
    "        self.assertEqual(result, 30)\n",
    "        self.assertIsInstance(result, np.uint32)\n",
    "\n",
    "# Run local scope tests\n",
    "run_local_scope_tests(TestForceU32)"
   ]
  },
  {
   "cell_type": "markdown",
   "id": "0d655a92",
   "metadata": {},
   "source": [
    "### Preformance Demo"
   ]
  },
  {
   "cell_type": "code",
   "execution_count": null,
   "id": "80450f61",
   "metadata": {},
   "outputs": [],
   "source": [
    "def performance_demo():\n",
    "    \"\"\"Demonstrate performance difference between decorated and undecorated functions.\"\"\"\n",
    "    N = 10**7 # Number of iterations for timing (10^7)\n",
    "    x, y = 10, 20 # Sample integer inputs\n",
    "\n",
    "    # Undecorated internal function\n",
    "    t_internal = timeit.timeit(lambda: add(u32(x), u32(y)), number=N)\n",
    "\n",
    "    # Decorated user-facing function (with conversion)\n",
    "    t_user = timeit.timeit(lambda: add_user_facing(x, y), number=N)\n",
    "\n",
    "    print(f\"Internal undecorated function time: {t_internal:.4f} s\")\n",
    "    print(f\"User-facing decorated function time: {t_user:.4f} s\")\n",
    "\n",
    "    # Decorator adds overhead for type conversion (x3 slower), but provides safety and readability for user inputs.\n",
    "    # This trade-off is often worthwhile in user-facing code, we prioritise safety and usability over raw performance.\n",
    "    # but for inner loops, or methods where type safety is guaranteed, using undecorated functions is preferred.\n",
    "\n",
    "# Run performance demonstration\n",
    "# performance_demo()"
   ]
  },
  {
   "cell_type": "markdown",
   "id": "35b9cac0",
   "metadata": {},
   "source": [
    "## **Problem 1: Binary Words and Operations**"
   ]
  },
  {
   "cell_type": "markdown",
   "id": "21c79a1d",
   "metadata": {},
   "source": [
    "### 1.1 Parity Function\n",
    "$\\text{Parity}(x, y, z) = x \\oplus y \\oplus z$\n",
    "\n",
    "#### 1.11 Design Decisions\n",
    "**Old design decision**<br>\n",
    "I chose to statically define all parameter types as NumPy 32-bit unsigned integers ``(np.uint32)`` to avoid writing defensive runtime checks and to improve performance.\n",
    "In the Secure Hash Standard, this function would be called millions of times per hash computation. While this notebook is primarily meant to demonstrate functionality and could therefore benefit from more flexible, dynamically typed inputs I believe performance is just as critical as correctness in these bitwise operations. After all, these functions are designed to operate at the bit level for efficiency and precision; type checking them with expensive calls would defeat the purpose.\n",
    "\n",
    "**Updated Design decision**<br>\n",
    "- The core methods still define parameters with static typing for maximum performance.\n",
    "- A new type-conversion decorator, ``@force_u32``, provides the best of both worlds; enabling automatic conversion of Python int values to ``np.uint32`` where appropriate,<br>\n",
    "while leveraging existing code. This eliminates the need to maintain duplicate function definitions (one with type checks and one with static typing).\n",
    "- All related methods are now encapsulated in static classes, giving the user explicit control over usage style:\n",
    "    - ``ClassName.internal`` High-performance version (expects np.uint32 arguments).\n",
    "    - ``ClassName.user_facing`` Decorated version with automatic type conversion for readability and convenience.\n",
    "\n",
    "- Each static class also includes an ``assert_me`` method to streamline and simplify unit testing, improving clarity and reducing boilerplate.\n",
    "\n",
    "This design allows you to call binary word operations directly with regular Python integers without manually wrapping every argument in ``u32()`` or ``np.uint32()``.<br>\n",
    "At the same time, performance-critical code (such as within tight loops where functions can be called millions of times) can achieve up to 3× faster execution by using the undecorated internal method.\n",
    "\n",
    "When calling the function from within another validated method, users may directly use the undecorated version, as the input types are already guaranteed to be ``np.uint32``.<br>\n",
    "This avoids redundant type checks and maximizes performance."
   ]
  },
  {
   "cell_type": "code",
   "execution_count": null,
   "id": "40a9eef3",
   "metadata": {},
   "outputs": [],
   "source": [
    "class Parity:\n",
    "    # interal undecorated function\n",
    "    @staticmethod\n",
    "    def __Parity(x: u32, y: u32, z: u32) -> u32:\n",
    "        \"\"\"\n",
    "        Operation:\n",
    "            Applies bitwise eclusive or (XOR) to three 32-bit unsigned integers (x, y, z).\n",
    "            For each bit position of x, y and z:\n",
    "                - if an odd number of bits are 1, the result is 1\n",
    "                - if an even number of bits are 1, the result is 0\n",
    "\n",
    "        Parameters:\n",
    "            (all arguments are of numpy unsigned 32-bit integer type)\n",
    "            x: First integer\n",
    "            y: Second integer.\n",
    "            z: Third integer.\n",
    "\n",
    "        Returns: \n",
    "            result of 'Operation' as numpy unsigned 32-bit integer.\n",
    "        \"\"\"\n",
    "\n",
    "        # Apply bitwise XOR to the three integers and return the result\n",
    "        return x ^ y ^ z\n",
    "    \n",
    "    # user-facing decorated function\n",
    "    @staticmethod\n",
    "    @force_u32\n",
    "    def __Parity_safe(x: int, y: int, z: int) -> u32:\n",
    "        \"\"\"\n",
    "        Wrapper function for Parity that converts all int inputs to np.uint32 safely.\n",
    "        \"\"\"\n",
    "        return Parity.__Parity(x, y, z)\n",
    "    \n",
    "    # Unit test method template\n",
    "    # improves readability and reduces boilerplate code in unit tests\n",
    "    @staticmethod\n",
    "    def assert_me(test_class: unittest.TestCase, x: int, y: int, z: int, \n",
    "               expected: int, fail_msg: str, print_equation: bool = False) -> None:\n",
    "        \"\"\"\n",
    "        Overview:\n",
    "            Asserts Parity function via TestCase.assertEqual() method.\n",
    "                - used for readability in unit tests\n",
    "                - can print detailed equation breakdown for debugging and verification.\n",
    "                - automatically converts int inputs to np.uint32\n",
    "\n",
    "        Parameters:\n",
    "            test_class: The unittest.TestCase instance to use for assertions.\n",
    "            x: First integer input for Parity.\n",
    "            y: Second integer input for Parity.\n",
    "            z: Third integer input for Parity.\n",
    "            expected: The expected result of Parity(x, y, z).\n",
    "            fail_msg: Message to display if the test fails.\n",
    "            print_equation: If True, prints detailed equation breakdown.\n",
    "\n",
    "        returns:\n",
    "            None\n",
    "        \"\"\"\n",
    "        \n",
    "        # fetch result from Parity function\n",
    "        result: u32 = Parity.__Parity_safe(x, y, z)\n",
    "\n",
    "        # Optional detailed equation info printout\n",
    "        if print_equation:\n",
    "            print(\"----------------------------------------------------------------------\")\n",
    "            # print formatted test info\n",
    "            print(\"Testing Parity with inputs: x:{} y:{} z:{}\".format( x, y, z))\n",
    "            print(\"Equation: {} ⊕ {} ⊕ {} = {} \\n\".format(x, y, z, result))\n",
    "            print(\"Expected result:\", expected)\n",
    "            print(\"Actual result: {} \\n\".format(result))\n",
    "\n",
    "            # detailed breakdown of the equation steps\n",
    "            print(\"Equation breakdown:\")\n",
    "            # print inputs in binary format\n",
    "            print(\"Inputs as binary: \\n(x): {:032b} \\\n",
    "                  \\n(y): {:032b} \\n(z): {:032b} \\n\".format(x, y, z))\n",
    "            \n",
    "            # print step 1\n",
    "            a_result: u32 = x ^ y\n",
    "            print(\"Step 1: x ⊕ y:\")\n",
    "            print(\"(x): {:032b} \\n(y): {:032b}\".format(x, y))\n",
    "            print(\"-------------------------- \\n(a): {:032b} \\n\".format(a_result))\n",
    "\n",
    "            # print step 2\n",
    "            b_result: u32 = a_result ^ z\n",
    "            print(\"Step 2: a ⊕ z:\")\n",
    "            print(\"(a): {:032b} \\n(z): {:032b}\".format(a_result, z))\n",
    "            print(\"-------------------------- \\nResult: {:032b} \\n\".format(b_result))\n",
    "\n",
    "            # end section printout\n",
    "            print(\"----------------------------------------------------------------------\")\n",
    "\n",
    "        # Assert that the result matches the expected value\n",
    "        test_class.assertEqual(result, expected, fail_msg)\n",
    "\n",
    "    # Expose methods to user\n",
    "    # The preformance effect is negligible here, as they are just references\n",
    "    # causing only 1 more dictionary lookup when called.\n",
    "    internal = __Parity\n",
    "    user_facing = __Parity_safe"
   ]
  },
  {
   "cell_type": "markdown",
   "id": "3a752305",
   "metadata": {},
   "source": []
  },
  {
   "cell_type": "markdown",
   "id": "6b77530c",
   "metadata": {},
   "source": [
    "### 1.11 Parity test cases"
   ]
  },
  {
   "cell_type": "code",
   "execution_count": 1414,
   "id": "d7a9d690",
   "metadata": {},
   "outputs": [
    {
     "name": "stderr",
     "output_type": "stream",
     "text": [
      "test_base_cases (__main__.TestParity.test_base_cases)\n",
      "Basic XOR combinations. ... ok\n",
      "test_non_trivial_cases (__main__.TestParity.test_non_trivial_cases)\n",
      "Non-trivial test cases with larger integers. ... ok\n",
      "\n",
      "----------------------------------------------------------------------\n",
      "Ran 2 tests in 0.002s\n",
      "\n",
      "OK\n"
     ]
    },
    {
     "name": "stdout",
     "output_type": "stream",
     "text": [
      "----------------------------------------------------------------------\n",
      "Testing Parity with inputs: x:14 y:32 z:11\n",
      "Equation: 14 ⊕ 32 ⊕ 11 = 37 \n",
      "\n",
      "Expected result: 37\n",
      "Actual result: 37 \n",
      "\n",
      "Equation breakdown:\n",
      "Inputs as binary: \n",
      "(x): 00000000000000000000000000001110                   \n",
      "(y): 00000000000000000000000000100000 \n",
      "(z): 00000000000000000000000000001011 \n",
      "\n",
      "Step 1: x ⊕ y:\n",
      "(x): 00000000000000000000000000001110 \n",
      "(y): 00000000000000000000000000100000\n",
      "-------------------------- \n",
      "(a): 00000000000000000000000000101110 \n",
      "\n",
      "Step 2: a ⊕ z:\n",
      "(a): 00000000000000000000000000101110 \n",
      "(z): 00000000000000000000000000001011\n",
      "-------------------------- \n",
      "Result: 00000000000000000000000000100101 \n",
      "\n",
      "----------------------------------------------------------------------\n"
     ]
    },
    {
     "data": {
      "text/plain": [
       "<unittest.runner.TextTestResult run=2 errors=0 failures=0>"
      ]
     },
     "execution_count": 1414,
     "metadata": {},
     "output_type": "execute_result"
    }
   ],
   "source": [
    "# Unit tests for the Parity method.\n",
    "class TestParity(unittest.TestCase):\n",
    "    def test_base_cases(self):\n",
    "        \"\"\"Basic XOR combinations.\"\"\"\n",
    "\n",
    "        # 0 ⊕ 0 ⊕ 0 = 0\n",
    "        Parity.assert_me(self, x=0, y=0, z=0, \n",
    "                        expected=0, \n",
    "                        fail_msg=\"Failed on all zeros\")\n",
    "\n",
    "        # 1 ⊕ 0 ⊕ 0 = 1\n",
    "        Parity.assert_me(self, x=1, y=0, z=0, \n",
    "                        expected=1, \n",
    "                        fail_msg=\"Failed when only x=1\")\n",
    "\n",
    "        # 1 ⊕ 1 ⊕ 0 = 0\n",
    "        Parity.assert_me(self, x=1, y=1, z=0,\n",
    "                        expected=0,\n",
    "                        fail_msg=\"Failed on even number of 1s\")\n",
    "\n",
    "        # 1 ⊕ 1 ⊕ 1 = 1\n",
    "        Parity.assert_me(self, x=1, y=1, z=1, \n",
    "                        expected=1,\n",
    "                        fail_msg=\"Failed on odd number of 1s\")\n",
    "\n",
    "    def test_non_trivial_cases(self):\n",
    "        \"\"\"Non-trivial test cases with larger integers.\"\"\"\n",
    "\n",
    "        # Test case 1\n",
    "        Parity.assert_me(self, x=14, y=32, z=11,\n",
    "                        expected=37,\n",
    "                        fail_msg=\"Failed on non-trivial case 1\",\n",
    "                        print_equation=True)\n",
    "\n",
    "\n",
    "run_local_scope_tests(TestParity, 2)"
   ]
  },
  {
   "cell_type": "markdown",
   "id": "107f4613",
   "metadata": {},
   "source": [
    "### 1.2 Ch Function\n",
    "$\\text Ch(x, y, z) = (x \\land y) \\oplus (\\lnot x \\land z)$"
   ]
  },
  {
   "cell_type": "code",
   "execution_count": 1415,
   "id": "fb410590",
   "metadata": {},
   "outputs": [],
   "source": [
    "def Ch(x: u32, y:u32, z:u32) -> u32:\n",
    "    return (x & y) ^ (~x & z)"
   ]
  },
  {
   "cell_type": "code",
   "execution_count": 1416,
   "id": "557f74c4",
   "metadata": {},
   "outputs": [
    {
     "name": "stderr",
     "output_type": "stream",
     "text": [
      "----------------------------------------------------------------------\n",
      "Ran 1 test in 0.000s\n",
      "\n",
      "OK\n"
     ]
    },
    {
     "data": {
      "text/plain": [
       "<unittest.runner.TextTestResult run=1 errors=0 failures=0>"
      ]
     },
     "execution_count": 1416,
     "metadata": {},
     "output_type": "execute_result"
    }
   ],
   "source": [
    "class TestCh(unittest.TestCase):\n",
    "\n",
    "    def test_base_cases(self):\n",
    "        \"\"\"Basic Tests for Ch(x, y, z).\"\"\"\n",
    "\n",
    "        # Case 1: x=0, y=0, z=0\n",
    "        # (0 & 0) ⊕ (~0 & 0) = 0\n",
    "        x1, y1, z1 = u32(0), u32(0), u32(0)\n",
    "        expected1 = u32(0)\n",
    "        self.assertEqual(Ch(x1, y1, z1), expected1, \"Failed on all zeros\")\n",
    "\n",
    "        # Case 2: x=0, y=0, z=1\n",
    "        # (0 & 0) ⊕ (~0 & 1) = 1\n",
    "        x2, y2, z2 = u32(0), u32(0), u32(1)\n",
    "        expected2 = u32(1)\n",
    "        self.assertEqual(Ch(x2, y2, z2), expected2, \"Failed when x=0, y=0, z=1\")\n",
    "\n",
    "        # Case 3: x=1, y=0, z=1\n",
    "        # (1 & 0) ⊕ (~1 & 1) = 0\n",
    "        x3, y3, z3 = u32(1), u32(0), u32(1)\n",
    "        expected3 = u32(0)\n",
    "        self.assertEqual(Ch(x3, y3, z3), expected3, \"Failed when x=1, y=0, z=1\")\n",
    "\n",
    "        # Case 4: x=1, y=1, z=0\n",
    "        # (1 & 1) ⊕ (~1 & 0) = 1\n",
    "        x4, y4, z4 = u32(1), u32(1), u32(0)\n",
    "        expected4 = u32(1)\n",
    "        self.assertEqual(Ch(x4, y4, z4), expected4, \"Failed when x=1, y=1, z=0\")\n",
    "\n",
    "        # Case 5: x=1, y=1, z=1\n",
    "        # (1 & 1) ⊕ (~1 & 1) = 1\n",
    "        x5, y5, z5 = u32(1), u32(1), u32(1)\n",
    "        expected5 = u32(1)\n",
    "        self.assertEqual(Ch(x5, y5, z5), expected5, \"Failed when all are 1s\")\n",
    "\n",
    "        # Case 6: x=0, y=1, z=1\n",
    "        # (0 & 1) ⊕ (~0 & 1) = 1\n",
    "        x6, y6, z6 = u32(0), u32(1), u32(1)\n",
    "        expected6 = u32(1)\n",
    "        self.assertEqual(Ch(x6, y6, z6), expected6, \"Failed when x=0, y=1, z=1\")\n",
    "\n",
    "# avoid redeclaring variables in global scope\n",
    "run_local_scope_tests(TestCh)"
   ]
  },
  {
   "cell_type": "markdown",
   "id": "4e22ffcf",
   "metadata": {},
   "source": [
    "### 1.3 Maj Function\n",
    "$\\text Maj(x, y, z) = (x \\land y) \\oplus (x \\land z) \\oplus (y \\land z)$"
   ]
  },
  {
   "cell_type": "code",
   "execution_count": 1417,
   "id": "dbc71b57",
   "metadata": {},
   "outputs": [],
   "source": [
    "def Maj(x: u32, y: u32, z: u32) -> u32:\n",
    "    return (x & y) ^ (x & z) ^ (y & z)"
   ]
  },
  {
   "cell_type": "markdown",
   "id": "ca16e5ee",
   "metadata": {},
   "source": [
    "#### 1.31 Maj Test Cases"
   ]
  },
  {
   "cell_type": "code",
   "execution_count": 1418,
   "id": "ab3547e3",
   "metadata": {},
   "outputs": [
    {
     "name": "stderr",
     "output_type": "stream",
     "text": [
      "----------------------------------------------------------------------\n",
      "Ran 1 test in 0.000s\n",
      "\n",
      "OK\n"
     ]
    },
    {
     "data": {
      "text/plain": [
       "<unittest.runner.TextTestResult run=1 errors=0 failures=0>"
      ]
     },
     "execution_count": 1418,
     "metadata": {},
     "output_type": "execute_result"
    }
   ],
   "source": [
    "class TestMaj(unittest.TestCase):\n",
    "    \"\"\"Unit tests for the Maj(x, y, z) function.\"\"\"\n",
    "\n",
    "    def test_base_cases(self):\n",
    "        \"\"\"Base tests\"\"\"\n",
    "\n",
    "        # Case 1: x=0, y=0, z=0\n",
    "        # (0&0) ⊕ (0&0) ⊕ (0&0) = 0\n",
    "        x1, y1, z1 = u32(0), u32(0), u32(0)\n",
    "        expected1 = u32(0)\n",
    "        self.assertEqual(Maj(x1, y1, z1), expected1, \"Failed on all zeros\")\n",
    "\n",
    "        # Case 2: x=0, y=0, z=1\n",
    "        # (0&0) ⊕ (0&1) ⊕ (0&1) = 0\n",
    "        x2, y2, z2 = u32(0), u32(0), u32(1)\n",
    "        expected2 = u32(0)\n",
    "        self.assertEqual(Maj(x2, y2, z2), expected2, \"Failed when z=1 only\")\n",
    "\n",
    "        # Case 3: x=0, y=1, z=1\n",
    "        # (0&1) ⊕ (0&1) ⊕ (1&1) = 1\n",
    "        x3, y3, z3 = u32(0), u32(1), u32(1)\n",
    "        expected3 = u32(1)\n",
    "        self.assertEqual(Maj(x3, y3, z3), expected3, \"Failed when x=0, y=1, z=1\")\n",
    "\n",
    "        # Case 4: x=1, y=0, z=1 \n",
    "        # (1&0) ⊕ (1&1) ⊕ (0&1) = 1\n",
    "        x4, y4, z4 = u32(1), u32(0), u32(1)\n",
    "        expected4 = u32(1)\n",
    "        self.assertEqual(Maj(x4, y4, z4), expected4, \"Failed when x=1, y=0, z=1\")\n",
    "\n",
    "        # Case 5: x=1, y=1, z=1\n",
    "        # (1&1) ⊕ (1&1) ⊕ (1&1) = 1\n",
    "        x5, y5, z5 = u32(1), u32(1), u32(1)\n",
    "        expected5 = u32(1)\n",
    "        self.assertEqual(Maj(x5, y5, z5), expected5, \"Failed when all are 1s\")\n",
    "\n",
    "        # SHOW WORKINGS FOR 2 examples, basic and non-standard\n",
    "        # Case 6: x=7, y=8, z=2\n",
    "        0b00000111\n",
    "        0b00001000\n",
    "        # =\n",
    "        0b00000000 # P1\n",
    "        # XOR\n",
    "        0b00000111\n",
    "        0b00000010\n",
    "        # =\n",
    "        0b00000010 # P2\n",
    "        # XOR\n",
    "        0b00001000\n",
    "        0b00000010\n",
    "        # =\n",
    "        0b00000000 # P3\n",
    "\n",
    "        0b00000000 # P1\n",
    "        0b00000010 # P2\n",
    "        0b00000000 # P3\n",
    "        0b00000010 # Final Result\n",
    "        # 0b00000010 = 2\n",
    "\n",
    "\n",
    "        # (7&8) ⊕ (7&2) ⊕ (8&2) = 2\n",
    "        x6, y6, z6 = u32(7), u32(8), u32(2)\n",
    "        expected6 = u32(2)\n",
    "        self.assertEqual(Maj(x6, y6, z6), expected6, \"Non-standard case\")\n",
    "\n",
    "# avoid redeclaring variables in global scope\n",
    "run_local_scope_tests(TestMaj)"
   ]
  },
  {
   "cell_type": "markdown",
   "id": "05527734",
   "metadata": {},
   "source": [
    "### 1.4 Implementing Sigma functions\n",
    "#### 1.41 Helper Functions\n",
    "The sigma functions use the following methods throughout their implementation:\n",
    "- **ROTR** (Circular right shift Operation)\n",
    "- **SHR** ( Right Shift Operation )\n",
    "\n",
    "These functions have been implemented as defined in [FIPS 180-4, Section 3.2: Operations on Words](https://nvlpubs.nist.gov/nistpubs/FIPS/NIST.FIPS.180-4.pdf) as helper methods to reduce repetiton. \n",
    "\n",
    "**Circular right shift Operation**<br>\n",
    "$\\text{ROTR}^n(x) = (x \\gg n) \\lor (x \\ll w - n)$"
   ]
  },
  {
   "cell_type": "code",
   "execution_count": 1419,
   "id": "0ad1efaf",
   "metadata": {},
   "outputs": [],
   "source": [
    "def ROTR(x: u32, n: u32) -> u32:\n",
    "    \"\"\"Right rotate a 32-bit word x by n bits.\"\"\"\n",
    "    return (x >> n) | (x << (32 - n))"
   ]
  },
  {
   "cell_type": "markdown",
   "id": "003aee46",
   "metadata": {},
   "source": [
    "**Right Shift Operation**<br>\n",
    "$\\text{SHR}^n(x) = x \\gg n$"
   ]
  },
  {
   "cell_type": "code",
   "execution_count": 1420,
   "id": "120d9488",
   "metadata": {},
   "outputs": [],
   "source": [
    "def SHR(x: u32, n:u32) -> u32:\n",
    "    \"\"\"Logical right shift of x by n bits.\"\"\"\n",
    "    return (x >> n)"
   ]
  },
  {
   "cell_type": "markdown",
   "id": "3588af2b",
   "metadata": {},
   "source": [
    "#### 1.5 large Sigma 0\n",
    "$\\Sigma_{0}^{256}(x) \\;=\\; \\mathrm{ROTR}^2(x) \\;\\oplus\\; \\mathrm{ROTR}^{13}(x) \\;\\oplus\\; \\mathrm{ROTR}^{22}(x)$"
   ]
  },
  {
   "cell_type": "code",
   "execution_count": 1421,
   "id": "d4313684",
   "metadata": {},
   "outputs": [],
   "source": [
    "def Sigma0(x: u32) -> u32:\n",
    "    return ROTR(x, u32(2)) ^ ROTR(x, u32(13)) ^ ROTR(x, u32(22))"
   ]
  },
  {
   "cell_type": "markdown",
   "id": "62bd63e7",
   "metadata": {},
   "source": [
    "#### 1.6 Large Sigma 1\n",
    "$\\Sigma_{1}^{256}(x) \\;=\\; \\mathrm{ROTR}^6(x) \\;\\oplus\\; \\mathrm{ROTR}^{11}(x) \\;\\oplus\\; \\mathrm{ROTR}^{25}(x)$"
   ]
  },
  {
   "cell_type": "code",
   "execution_count": 1422,
   "id": "0486f288",
   "metadata": {},
   "outputs": [],
   "source": [
    "def Sigma1(x: u32) -> u32:\n",
    "    return ROTR(x, u32(6)) ^ ROTR(x, u32(11)) ^ ROTR(x, u32(25))"
   ]
  },
  {
   "cell_type": "markdown",
   "id": "b40972cc",
   "metadata": {},
   "source": [
    "#### 1.7 Small Sigma 0\n",
    "$\\sigma_{0}^{256}(x) = \\mathrm{ROTR}^{7}(x) \\;\\oplus\\; \\mathrm{ROTR}^{18}(x) \\;\\oplus\\; \\mathrm{SHR}^{3}(x)$"
   ]
  },
  {
   "cell_type": "code",
   "execution_count": 1423,
   "id": "e580c571",
   "metadata": {},
   "outputs": [],
   "source": [
    "def sigma0(x: u32) -> u32:\n",
    "    return ROTR(x, u32(7)) ^ ROTR(x, u32(18)) ^ SHR(x, u32(3))"
   ]
  },
  {
   "cell_type": "markdown",
   "id": "8e9b03c2",
   "metadata": {},
   "source": [
    "#### 1.7 Small Sigma 1\n",
    "$\\sigma_{1}^{256}(x) = \\mathrm{ROTR}^{17}(x) \\;\\oplus\\; \\mathrm{ROTR}^{19}(x) \\;\\oplus\\; \\mathrm{SHR}^{10}(x)$"
   ]
  },
  {
   "cell_type": "code",
   "execution_count": 1424,
   "id": "1e3be83b",
   "metadata": {},
   "outputs": [],
   "source": [
    "def sigma1(x: u32) -> u32:\n",
    "    return ROTR(x, u32(17)) ^ ROTR(x, u32(19)) ^ SHR(x, u32(10))"
   ]
  },
  {
   "cell_type": "markdown",
   "id": "7aa1e91a",
   "metadata": {},
   "source": [
    "## Problem 2: Fractional Parts of Cube Roots"
   ]
  },
  {
   "cell_type": "code",
   "execution_count": null,
   "id": "5617fa5c",
   "metadata": {},
   "outputs": [],
   "source": []
  },
  {
   "cell_type": "markdown",
   "id": "36d0a0a4",
   "metadata": {},
   "source": [
    "## Problem 3: Padding"
   ]
  },
  {
   "cell_type": "code",
   "execution_count": null,
   "id": "ecefcb69",
   "metadata": {},
   "outputs": [],
   "source": []
  },
  {
   "cell_type": "markdown",
   "id": "a6a1145d",
   "metadata": {},
   "source": [
    "## Problem 4: Hashes"
   ]
  },
  {
   "cell_type": "code",
   "execution_count": null,
   "id": "3e14b82c",
   "metadata": {},
   "outputs": [],
   "source": []
  },
  {
   "cell_type": "markdown",
   "id": "353e1168",
   "metadata": {},
   "source": [
    "## Problem 5: Passwords"
   ]
  },
  {
   "cell_type": "code",
   "execution_count": null,
   "id": "13e71e7b",
   "metadata": {},
   "outputs": [],
   "source": []
  }
 ],
 "metadata": {
  "kernelspec": {
   "display_name": "Python 3",
   "language": "python",
   "name": "python3"
  },
  "language_info": {
   "codemirror_mode": {
    "name": "ipython",
    "version": 3
   },
   "file_extension": ".py",
   "mimetype": "text/x-python",
   "name": "python",
   "nbconvert_exporter": "python",
   "pygments_lexer": "ipython3",
   "version": "3.12.5"
  }
 },
 "nbformat": 4,
 "nbformat_minor": 5
}
