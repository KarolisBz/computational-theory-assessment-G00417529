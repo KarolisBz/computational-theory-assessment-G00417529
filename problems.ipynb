{
 "cells": [
  {
   "cell_type": "markdown",
   "id": "53f1953a",
   "metadata": {},
   "source": [
    "# **Computational Theory Assessment G00417529**"
   ]
  },
  {
   "cell_type": "markdown",
   "id": "902ad5e1",
   "metadata": {},
   "source": [
    "# **Imports**"
   ]
  },
  {
   "cell_type": "code",
   "execution_count": 391,
   "id": "907c4369",
   "metadata": {},
   "outputs": [],
   "source": [
    "# numpy and unittest imports\n",
    "import numpy as np\n",
    "import unittest\n",
    "# 32-bit unsigned integer alies to reduce verbosity of notebook\n",
    "u32 = np.uint32\n",
    "# Decorator for decorators, keeps function metadata intact\n",
    "from functools import wraps\n",
    "# Used for benchmarking function performance\n",
    "import timeit\n"
   ]
  },
  {
   "cell_type": "markdown",
   "id": "0c81c6a9",
   "metadata": {},
   "source": [
    "## **Introduction**\n",
    "This section defines technical terms used for all the solutions in this notebook\n",
    "\n",
    "### **Bitwise Terms and Operations**\n",
    "**Bitwise Operations** are actions directly applied to individual bits of binary numbers. <br>\n",
    "**Binary Words** are the natural unit of data a computer CPU can process with fixed lengths like 32bits (4 bytes) or 64 bits (8 bytes) <br><br>\n",
    "\n",
    "**Bitwise AND ($\\land$)/(`&`)**<br>\n",
    "Compares each bit of two **binary words**.\n",
    "\n",
    "For every bit position:\n",
    "- The result bit is `1` only if both corresponding bits in the operands are `1`.\n",
    "- Otherwise, the result bit is `0`.\n",
    "\n",
    "<table style=\"border: 1px solid black; border-collapse: collapse; text-align: center; padding: 8px;\">\n",
    "  <tr>\n",
    "    <th style=\"border: 1px solid black;\">X</th>\n",
    "    <th style=\"border: 1px solid black;\">Y</th>\n",
    "    <th style=\"border: 1px solid black;\">X & Y</th>\n",
    "  </tr>\n",
    "  <tr>\n",
    "    <td style=\"border: 1px solid black;\">0</td>\n",
    "    <td style=\"border: 1px solid black;\">0</td>\n",
    "    <td style=\"border: 1px solid black;\">0</td>\n",
    "  </tr>\n",
    "  <tr>\n",
    "    <td style=\"border: 1px solid black;\">0</td>\n",
    "    <td style=\"border: 1px solid black;\">1</td>\n",
    "    <td style=\"border: 1px solid black;\">0</td>\n",
    "  </tr>\n",
    "  <tr>\n",
    "    <td style=\"border: 1px solid black;\">1</td>\n",
    "    <td style=\"border: 1px solid black;\">1</td>\n",
    "    <td style=\"border: 1px solid black;\">1</td>\n",
    "  </tr>\n",
    "</table><br>\n",
    "\n",
    "**Bitwise OR (`|`)**<br>\n",
    "For every bit position:\n",
    "- The bit result is `1` if either bit is `1`.\n",
    "- Otherwise, the result bit is `0`.\n",
    "\n",
    "<table style=\"border: 1px solid black; border-collapse: collapse; text-align: center; padding: 8px;\">\n",
    "  <tr>\n",
    "    <th style=\"border: 1px solid black;\">X</th>\n",
    "    <th style=\"border: 1px solid black;\">Y</th>\n",
    "    <th style=\"border: 1px solid black;\">X | Y</th>\n",
    "  </tr>\n",
    "  <tr>\n",
    "    <td style=\"border: 1px solid black;\">0</td>\n",
    "    <td style=\"border: 1px solid black;\">0</td>\n",
    "    <td style=\"border: 1px solid black;\">0</td>\n",
    "  </tr>\n",
    "  <tr>\n",
    "    <td style=\"border: 1px solid black;\">0</td>\n",
    "    <td style=\"border: 1px solid black;\">1</td>\n",
    "    <td style=\"border: 1px solid black;\">1</td>\n",
    "  </tr>\n",
    "  <tr>\n",
    "    <td style=\"border: 1px solid black;\">1</td>\n",
    "    <td style=\"border: 1px solid black;\">1</td>\n",
    "    <td style=\"border: 1px solid black;\">1</td>\n",
    "  </tr>\n",
    "</table><br>\n",
    "\n",
    "**Bitwise XOR ($\\oplus$)/(`^`)**<br>\n",
    "For every bit position:\n",
    "- The bit result is `1` if both bits are different.\n",
    "- Otherwise, the result bit is `0`.\n",
    "\n",
    "<table style=\"border: 1px solid black; border-collapse: collapse; text-align: center; padding: 8px;\">\n",
    "  <tr>\n",
    "    <th style=\"border: 1px solid black;\">X</th>\n",
    "    <th style=\"border: 1px solid black;\">Y</th>\n",
    "    <th style=\"border: 1px solid black;\">X ^ Y</th>\n",
    "  </tr>\n",
    "  <tr>\n",
    "    <td style=\"border: 1px solid black;\">0</td>\n",
    "    <td style=\"border: 1px solid black;\">0</td>\n",
    "    <td style=\"border: 1px solid black;\">0</td>\n",
    "  </tr>\n",
    "  <tr>\n",
    "    <td style=\"border: 1px solid black;\">0</td>\n",
    "    <td style=\"border: 1px solid black;\">1</td>\n",
    "    <td style=\"border: 1px solid black;\">1</td>\n",
    "  </tr>\n",
    "  <tr>\n",
    "    <td style=\"border: 1px solid black;\">1</td>\n",
    "    <td style=\"border: 1px solid black;\">1</td>\n",
    "    <td style=\"border: 1px solid black;\">0</td>\n",
    "  </tr>\n",
    "</table><br>\n",
    "\n",
    "**Bitwise NOT (`~`)**<br>\n",
    "Flips every bit (`0→1`, `1→0`)\n",
    "\n",
    "<table style=\"border: 1px solid black; border-collapse: collapse; text-align: center; padding: 8px;\">\n",
    "  <tr>\n",
    "    <th style=\"border: 1px solid black;\">X</th>\n",
    "    <th style=\"border: 1px solid black;\">~X</th>\n",
    "  </tr>\n",
    "  <tr>\n",
    "    <td style=\"border: 1px solid black;\">0</td>\n",
    "    <td style=\"border: 1px solid black;\">1</td>\n",
    "  </tr>\n",
    "  <tr>\n",
    "    <td style=\"border: 1px solid black;\">1</td>\n",
    "    <td style=\"border: 1px solid black;\">0</td>\n",
    "  </tr>\n",
    "</table><br>"
   ]
  },
  {
   "cell_type": "markdown",
   "id": "3a9e0df8",
   "metadata": {},
   "source": [
    "## **Helper Functions**\n",
    "**Used to avoid duplicate code throughout solutions**<br>\n",
    "**Prevents variable redeclaration**<br>"
   ]
  },
  {
   "cell_type": "code",
   "execution_count": 392,
   "id": "a51aee91",
   "metadata": {},
   "outputs": [],
   "source": [
    "def run_local_scope_tests(test_class, ver_val=0):\n",
    "    \"\"\"Run a unittest class without redeclaring variables in the global scope.\"\"\"\n",
    "    suite = unittest.TestLoader().loadTestsFromTestCase(test_class)\n",
    "    runner = unittest.TextTestRunner(verbosity=ver_val)\n",
    "    result = runner.run(suite)\n",
    "    return result"
   ]
  },
  {
   "cell_type": "markdown",
   "id": "90bc0504",
   "metadata": {},
   "source": [
    "### Decorator to force all plain int parameters as np.uint32"
   ]
  },
  {
   "cell_type": "code",
   "execution_count": 393,
   "id": "4942acd6",
   "metadata": {},
   "outputs": [],
   "source": [
    "# IMRPOVE DOCS LATER\n",
    "def force_u32(func):\n",
    "    \"\"\"\n",
    "    Decorator that automatically converts all integer arguments passed to a function\n",
    "    into np.uint32 to reduce verbosity and improve convenience.\n",
    "\n",
    "    We use a decorator as it only has to be tested once, rather than testing\n",
    "    each individual function for correct argument types.\n",
    "\n",
    "    It also allows us to improve preformance by avoiding repeated type checks\n",
    "    within loops while having user faced code that is clean, easy to read and use.\n",
    "    \"\"\"\n",
    "\n",
    "     # Preserve metadata of the original function,\n",
    "     # such as its name and docstring which is useful for debugging and documentation and allows introspection tools to work correctly.\n",
    "     # e.g allows tools like help() to work and __name__ to work as expected.\n",
    "    @wraps(func)\n",
    "    # Define the wrapper function that will replace the original function\n",
    "    # *args and **kwargs allow it to accept any number of positional and keyword arguments\n",
    "    # This makes the decorator flexible and able to wrap functions with different signatures\n",
    "    # *args collects positional arguments into a tuple\n",
    "    # **kwargs collects keyword arguments into a dictionary\n",
    "    def wrapper(*args, **kwargs):\n",
    "        # using list comprehensions to iterate over all arguments and convert them as needed then storing in tuple\n",
    "        # Convert positional arguments: if argument is a plain int, cast to np.uint32\n",
    "        # if it's not a plain int (e.g., already np.uint32 or another type), leave it unchanged\n",
    "        new_args = tuple(u32(a) if isinstance(a, int) else a for a in args)\n",
    "\n",
    "        # Convert keyword arguments: same as above for kwargs\n",
    "        # but we handle key-value pairs in a dictionary\n",
    "        new_kwargs = {key: u32(value) if isinstance(value, int) else value\n",
    "                      for key, value in kwargs.items()}\n",
    "\n",
    "        # Call the original function with converted arguments\n",
    "        return func(*new_args, **new_kwargs)\n",
    "\n",
    "    return wrapper  # Return the wrapped function"
   ]
  },
  {
   "cell_type": "markdown",
   "id": "cd716da9",
   "metadata": {},
   "source": [
    "### force_u32 tests"
   ]
  },
  {
   "cell_type": "code",
   "execution_count": 394,
   "id": "f1d25a8e",
   "metadata": {},
   "outputs": [
    {
     "name": "stderr",
     "output_type": "stream",
     "text": [
      "----------------------------------------------------------------------\n",
      "Ran 5 tests in 0.000s\n",
      "\n",
      "OK\n"
     ]
    },
    {
     "data": {
      "text/plain": [
       "<unittest.runner.TextTestResult run=5 errors=0 failures=0>"
      ]
     },
     "execution_count": 394,
     "metadata": {},
     "output_type": "execute_result"
    }
   ],
   "source": [
    "# --- Internal, fast functions (undecorated) ---\n",
    "def add(x: u32, y: u32) -> u32:\n",
    "    \"\"\"Add two np.uint32 numbers.\"\"\"\n",
    "    return x + y\n",
    "\n",
    "def multiply(x: u32, y: u32) -> u32:\n",
    "    \"\"\"Multiply two np.uint32 numbers.\"\"\"\n",
    "    return x * y\n",
    "\n",
    "# --- User-facing, safe but slower functions (decorated) ---\n",
    "@force_u32\n",
    "def add_user_facing(x: int, y: int) -> u32:\n",
    "    \"\"\"User-facing add function, converts int inputs to np.uint32 automatically.\"\"\"\n",
    "    return add(x, y)\n",
    "\n",
    "@force_u32\n",
    "def multiply_user_facing(x: int, y: int) -> u32:\n",
    "    \"\"\"User-facing multiply function, converts int inputs to np.uint32 automatically.\"\"\"\n",
    "    return multiply(x, y)\n",
    "\n",
    "# --- Unit tests ---\n",
    "class TestForceU32(unittest.TestCase):\n",
    "\n",
    "    def test_alising(self):\n",
    "        \"\"\"Test that u32 alias works correctly\"\"\"\n",
    "        self.assertEqual(u32(5), np.uint32(5))\n",
    "        self.assertIsInstance(u32(5), np.uint32)\n",
    "    \n",
    "    def test_add_user_facing(self):\n",
    "        \"\"\"Test positional args for add_user_facing\"\"\"\n",
    "        result = add_user_facing(7, 3)\n",
    "        self.assertEqual(result, 10)\n",
    "        self.assertIsInstance(result, np.uint32)\n",
    "    \n",
    "    def test_multiply_user_facing(self):\n",
    "        \"\"\"Test positional args for multiply_user_facing\"\"\"\n",
    "        result = multiply_user_facing(3, 7)\n",
    "        self.assertEqual(result, 21)\n",
    "        self.assertIsInstance(result, np.uint32)\n",
    "\n",
    "    def test_keyword_args(self):\n",
    "        \"\"\"Test that keyword arguments are converted\"\"\"\n",
    "        result = add_user_facing(x=66, y=11)\n",
    "        self.assertEqual(result, 77)\n",
    "        self.assertIsInstance(result, np.uint32)\n",
    "\n",
    "    def test_mixed_args(self):\n",
    "        \"\"\"Test combination of positional and keyword arguments\"\"\"\n",
    "        result = multiply_user_facing(10, y=3)\n",
    "        self.assertEqual(result, 30)\n",
    "        self.assertIsInstance(result, np.uint32)\n",
    "\n",
    "# Run local scope tests\n",
    "run_local_scope_tests(TestForceU32)"
   ]
  },
  {
   "cell_type": "markdown",
   "id": "0d655a92",
   "metadata": {},
   "source": [
    "### Preformance Demo"
   ]
  },
  {
   "cell_type": "code",
   "execution_count": 395,
   "id": "80450f61",
   "metadata": {},
   "outputs": [],
   "source": [
    "def performance_demo():\n",
    "    \"\"\"Demonstrate performance difference between decorated and undecorated functions.\"\"\"\n",
    "    N = 10**7 # Number of iterations for timing (10^6)\n",
    "    x, y = 10, 20 # Sample integer inputs\n",
    "\n",
    "    # Undecorated internal function\n",
    "    t_internal = timeit.timeit(lambda: add(u32(x), u32(y)), number=N)\n",
    "\n",
    "    # Decorated user-facing function (with conversion)\n",
    "    t_user = timeit.timeit(lambda: add_user_facing(x, y), number=N)\n",
    "\n",
    "    print(f\"Internal undecorated function time: {t_internal:.4f} s\")\n",
    "    print(f\"User-facing decorated function time: {t_user:.4f} s\")\n",
    "\n",
    "    # Decorator adds overhead for type conversion (x2 slower), but provides safety for user inputs.\n",
    "    # This trade-off is often worthwhile in user-facing code, we prioritise safety and usability over raw performance.\n",
    "    # but for inner loops, or methods where type safety is guaranteed, using undecorated functions is preferred.\n",
    "\n",
    "# Run performance demonstration\n",
    "# performance_demo()"
   ]
  },
  {
   "cell_type": "markdown",
   "id": "35b9cac0",
   "metadata": {},
   "source": [
    "## **Problem 1: Binary Words and Operations**"
   ]
  },
  {
   "cell_type": "markdown",
   "id": "21c79a1d",
   "metadata": {},
   "source": [
    "### 1.1 Parity Function\n",
    "$\\text{Parity}(x, y, z) = x \\oplus y \\oplus z$\n",
    "\n",
    "#### 1.11 Design Decisions\n",
    "I chose to statically define all parameter types as NumPy 32-bit unsigned integers **(np.uint32)** to avoid writing defensive runtime checks and to improve performance.\n",
    "In the Secure Hash Standard, this function would be called millions of times per hash computation. While this notebook is primarily meant to demonstrate functionality and could therefore benefit from more flexible, dynamically typed inputs I believe performance is just as critical as correctness in these bitwise operations. After all, these functions are designed to operate at the bit level for efficiency and precision; type checking them with expensive calls would defeat the purpose."
   ]
  },
  {
   "cell_type": "code",
   "execution_count": 396,
   "id": "40a9eef3",
   "metadata": {},
   "outputs": [],
   "source": [
    "class Parity:\n",
    "    # interal undecorated function\n",
    "    @staticmethod\n",
    "    def __Parity(x: u32, y: u32, z: u32) -> u32:\n",
    "        \"\"\"\n",
    "        Operation:\n",
    "            Applies bitwise eclusive or (XOR) to three 32-bit unsigned integers (x, y, z).\n",
    "            For each bit position of x, y and z:\n",
    "                - if an odd number of bits are 1, the result is 1\n",
    "                - if an even number of bits are 1, the result is 0\n",
    "\n",
    "        Parameters:\n",
    "            (all arguments are of numpy unsigned 32-bit integer type)\n",
    "            x: First integer\n",
    "            y: Second integer.\n",
    "            z: Third integer.\n",
    "\n",
    "        Returns: \n",
    "            result of 'Operation' as numpy unsigned 32-bit integer.\n",
    "        \"\"\"\n",
    "\n",
    "        # Apply bitwise XOR to the three integers and return the result\n",
    "        return x ^ y ^ z\n",
    "    \n",
    "    # user-facing decorated function\n",
    "    @staticmethod\n",
    "    @force_u32\n",
    "    def __Parity_safe(x: int, y: int, z: int) -> u32:\n",
    "        return Parity.__Parity(x, y, z)\n",
    "    \n",
    "    # Unit test method template\n",
    "    # improves readability and reduces boilerplate code in tests\n",
    "    @staticmethod\n",
    "    def __test(test_class: unittest.TestCase, x: int, y: int, z: int, expected: int, fail_msg: str):\n",
    "        test_class.assertEqual(Parity.__Parity_safe(x, y, z), expected, fail_msg)\n",
    "\n",
    "    # Expose both versions\n",
    "    internal = __Parity\n",
    "    user_facing = __Parity_safe\n",
    "    assert_me = __test\n",
    "        "
   ]
  },
  {
   "cell_type": "markdown",
   "id": "6b77530c",
   "metadata": {},
   "source": [
    "### 1.11 Parity test cases"
   ]
  },
  {
   "cell_type": "code",
   "execution_count": 397,
   "id": "d7a9d690",
   "metadata": {},
   "outputs": [
    {
     "name": "stderr",
     "output_type": "stream",
     "text": [
      "----------------------------------------------------------------------\n",
      "Ran 1 test in 0.000s\n",
      "\n",
      "OK\n"
     ]
    },
    {
     "data": {
      "text/plain": [
       "<unittest.runner.TextTestResult run=1 errors=0 failures=0>"
      ]
     },
     "execution_count": 397,
     "metadata": {},
     "output_type": "execute_result"
    }
   ],
   "source": [
    "# Unit tests for the Parity method.\n",
    "class TestParity(unittest.TestCase):\n",
    "\n",
    "     def test_base_cases(self):\n",
    "        \"\"\"Basic XOR combinations.\"\"\"\n",
    "        \n",
    "        # 0 ⊕ 0 ⊕ 0 = 0\n",
    "        Parity.assert_me(self, x=0, y=0, z=0, \n",
    "                         expected=0, \n",
    "                         fail_msg=\"Failed on all zeros\")\n",
    "\n",
    "        # 1 ⊕ 0 ⊕ 0 = 1\n",
    "        Parity.assert_me(self, x=1, y=0, z=0, \n",
    "                         expected=1, \n",
    "                         fail_msg=\"Failed when only x=1\")\n",
    "\n",
    "        # 1 ⊕ 1 ⊕ 0 = 0\n",
    "        Parity.assert_me(self, x=1, y=1, z=0, \n",
    "                        expected=0, \n",
    "                        fail_msg=\"Failed on even number of 1s\")\n",
    "\n",
    "        # 1 ⊕ 1 ⊕ 1 = 1\n",
    "        Parity.assert_me(self, x=1, y=1, z=1, \n",
    "                expected=1, \n",
    "                fail_msg=\"Failed on odd number of 1s\")\n",
    "\n",
    "\n",
    "run_local_scope_tests(TestParity)"
   ]
  },
  {
   "cell_type": "markdown",
   "id": "107f4613",
   "metadata": {},
   "source": [
    "### 1.2 Ch Function\n",
    "$\\text Ch(x, y, z) = (x \\land y) \\oplus (\\lnot x \\land z)$"
   ]
  },
  {
   "cell_type": "code",
   "execution_count": 398,
   "id": "fb410590",
   "metadata": {},
   "outputs": [],
   "source": [
    "def Ch(x: u32, y:u32, z:u32) -> u32:\n",
    "    return (x & y) ^ (~x & z)"
   ]
  },
  {
   "cell_type": "code",
   "execution_count": 399,
   "id": "557f74c4",
   "metadata": {},
   "outputs": [
    {
     "name": "stderr",
     "output_type": "stream",
     "text": [
      "----------------------------------------------------------------------\n",
      "Ran 1 test in 0.000s\n",
      "\n",
      "OK\n"
     ]
    },
    {
     "data": {
      "text/plain": [
       "<unittest.runner.TextTestResult run=1 errors=0 failures=0>"
      ]
     },
     "execution_count": 399,
     "metadata": {},
     "output_type": "execute_result"
    }
   ],
   "source": [
    "class TestCh(unittest.TestCase):\n",
    "\n",
    "    def test_base_cases(self):\n",
    "        \"\"\"Basic Tests for Ch(x, y, z).\"\"\"\n",
    "\n",
    "        # Case 1: x=0, y=0, z=0\n",
    "        # (0 & 0) ⊕ (~0 & 0) = 0\n",
    "        x1, y1, z1 = u32(0), u32(0), u32(0)\n",
    "        expected1 = u32(0)\n",
    "        self.assertEqual(Ch(x1, y1, z1), expected1, \"Failed on all zeros\")\n",
    "\n",
    "        # Case 2: x=0, y=0, z=1\n",
    "        # (0 & 0) ⊕ (~0 & 1) = 1\n",
    "        x2, y2, z2 = u32(0), u32(0), u32(1)\n",
    "        expected2 = u32(1)\n",
    "        self.assertEqual(Ch(x2, y2, z2), expected2, \"Failed when x=0, y=0, z=1\")\n",
    "\n",
    "        # Case 3: x=1, y=0, z=1\n",
    "        # (1 & 0) ⊕ (~1 & 1) = 0\n",
    "        x3, y3, z3 = u32(1), u32(0), u32(1)\n",
    "        expected3 = u32(0)\n",
    "        self.assertEqual(Ch(x3, y3, z3), expected3, \"Failed when x=1, y=0, z=1\")\n",
    "\n",
    "        # Case 4: x=1, y=1, z=0\n",
    "        # (1 & 1) ⊕ (~1 & 0) = 1\n",
    "        x4, y4, z4 = u32(1), u32(1), u32(0)\n",
    "        expected4 = u32(1)\n",
    "        self.assertEqual(Ch(x4, y4, z4), expected4, \"Failed when x=1, y=1, z=0\")\n",
    "\n",
    "        # Case 5: x=1, y=1, z=1\n",
    "        # (1 & 1) ⊕ (~1 & 1) = 1\n",
    "        x5, y5, z5 = u32(1), u32(1), u32(1)\n",
    "        expected5 = u32(1)\n",
    "        self.assertEqual(Ch(x5, y5, z5), expected5, \"Failed when all are 1s\")\n",
    "\n",
    "        # Case 6: x=0, y=1, z=1\n",
    "        # (0 & 1) ⊕ (~0 & 1) = 1\n",
    "        x6, y6, z6 = u32(0), u32(1), u32(1)\n",
    "        expected6 = u32(1)\n",
    "        self.assertEqual(Ch(x6, y6, z6), expected6, \"Failed when x=0, y=1, z=1\")\n",
    "\n",
    "# avoid redeclaring variables in global scope\n",
    "run_local_scope_tests(TestCh)"
   ]
  },
  {
   "cell_type": "markdown",
   "id": "4e22ffcf",
   "metadata": {},
   "source": [
    "### 1.3 Maj Function\n",
    "$\\text Maj(x, y, z) = (x \\land y) \\oplus (x \\land z) \\oplus (y \\land z)$"
   ]
  },
  {
   "cell_type": "code",
   "execution_count": 400,
   "id": "dbc71b57",
   "metadata": {},
   "outputs": [],
   "source": [
    "def Maj(x: u32, y: u32, z: u32) -> u32:\n",
    "    return (x & y) ^ (x & z) ^ (y & z)"
   ]
  },
  {
   "cell_type": "markdown",
   "id": "ca16e5ee",
   "metadata": {},
   "source": [
    "#### 1.31 Maj Test Cases"
   ]
  },
  {
   "cell_type": "code",
   "execution_count": 401,
   "id": "ab3547e3",
   "metadata": {},
   "outputs": [
    {
     "name": "stderr",
     "output_type": "stream",
     "text": [
      "----------------------------------------------------------------------\n",
      "Ran 1 test in 0.000s\n",
      "\n",
      "OK\n"
     ]
    },
    {
     "data": {
      "text/plain": [
       "<unittest.runner.TextTestResult run=1 errors=0 failures=0>"
      ]
     },
     "execution_count": 401,
     "metadata": {},
     "output_type": "execute_result"
    }
   ],
   "source": [
    "class TestMaj(unittest.TestCase):\n",
    "    \"\"\"Unit tests for the Maj(x, y, z) function.\"\"\"\n",
    "\n",
    "    def test_base_cases(self):\n",
    "        \"\"\"Base tests\"\"\"\n",
    "\n",
    "        # Case 1: x=0, y=0, z=0\n",
    "        # (0&0) ⊕ (0&0) ⊕ (0&0) = 0\n",
    "        x1, y1, z1 = u32(0), u32(0), u32(0)\n",
    "        expected1 = u32(0)\n",
    "        self.assertEqual(Maj(x1, y1, z1), expected1, \"Failed on all zeros\")\n",
    "\n",
    "        # Case 2: x=0, y=0, z=1\n",
    "        # (0&0) ⊕ (0&1) ⊕ (0&1) = 0\n",
    "        x2, y2, z2 = u32(0), u32(0), u32(1)\n",
    "        expected2 = u32(0)\n",
    "        self.assertEqual(Maj(x2, y2, z2), expected2, \"Failed when z=1 only\")\n",
    "\n",
    "        # Case 3: x=0, y=1, z=1\n",
    "        # (0&1) ⊕ (0&1) ⊕ (1&1) = 1\n",
    "        x3, y3, z3 = u32(0), u32(1), u32(1)\n",
    "        expected3 = u32(1)\n",
    "        self.assertEqual(Maj(x3, y3, z3), expected3, \"Failed when x=0, y=1, z=1\")\n",
    "\n",
    "        # Case 4: x=1, y=0, z=1 \n",
    "        # (1&0) ⊕ (1&1) ⊕ (0&1) = 1\n",
    "        x4, y4, z4 = u32(1), u32(0), u32(1)\n",
    "        expected4 = u32(1)\n",
    "        self.assertEqual(Maj(x4, y4, z4), expected4, \"Failed when x=1, y=0, z=1\")\n",
    "\n",
    "        # Case 5: x=1, y=1, z=1\n",
    "        # (1&1) ⊕ (1&1) ⊕ (1&1) = 1\n",
    "        x5, y5, z5 = u32(1), u32(1), u32(1)\n",
    "        expected5 = u32(1)\n",
    "        self.assertEqual(Maj(x5, y5, z5), expected5, \"Failed when all are 1s\")\n",
    "\n",
    "        # SHOW WORKINGS FOR 2 examples, basic and non-standard\n",
    "        # Case 6: x=7, y=8, z=2\n",
    "        0b00000111\n",
    "        0b00001000\n",
    "        # =\n",
    "        0b00000000 # P1\n",
    "        # XOR\n",
    "        0b00000111\n",
    "        0b00000010\n",
    "        # =\n",
    "        0b00000010 # P2\n",
    "        # XOR\n",
    "        0b00001000\n",
    "        0b00000010\n",
    "        # =\n",
    "        0b00000000 # P3\n",
    "\n",
    "        0b00000000 # P1\n",
    "        0b00000010 # P2\n",
    "        0b00000000 # P3\n",
    "        0b00000010 # Final Result\n",
    "        # 0b00000010 = 2\n",
    "\n",
    "\n",
    "        # (7&8) ⊕ (7&2) ⊕ (8&2) = 2\n",
    "        x6, y6, z6 = u32(7), u32(8), u32(2)\n",
    "        expected6 = u32(2)\n",
    "        self.assertEqual(Maj(x6, y6, z6), expected6, \"Non-standard case\")\n",
    "\n",
    "# avoid redeclaring variables in global scope\n",
    "run_local_scope_tests(TestMaj)"
   ]
  },
  {
   "cell_type": "markdown",
   "id": "05527734",
   "metadata": {},
   "source": [
    "### 1.4 Implementing Sigma functions\n",
    "#### 1.41 Helper Functions\n",
    "The sigma functions use the following methods throughout their implementation:\n",
    "- **ROTR** (Circular right shift Operation)\n",
    "- **SHR** ( Right Shift Operation )\n",
    "\n",
    "These functions have been implemented as defined in [FIPS 180-4, Section 3.2: Operations on Words](https://nvlpubs.nist.gov/nistpubs/FIPS/NIST.FIPS.180-4.pdf) as helper methods to reduce repetiton. \n",
    "\n",
    "**Circular right shift Operation**<br>\n",
    "$\\text{ROTR}^n(x) = (x \\gg n) \\lor (x \\ll w - n)$"
   ]
  },
  {
   "cell_type": "code",
   "execution_count": 402,
   "id": "0ad1efaf",
   "metadata": {},
   "outputs": [],
   "source": [
    "def ROTR(x: u32, n: u32) -> u32:\n",
    "    \"\"\"Right rotate a 32-bit word x by n bits.\"\"\"\n",
    "    return (x >> n) | (x << (32 - n))"
   ]
  },
  {
   "cell_type": "markdown",
   "id": "003aee46",
   "metadata": {},
   "source": [
    "**Right Shift Operation**<br>\n",
    "$\\text{SHR}^n(x) = x \\gg n$"
   ]
  },
  {
   "cell_type": "code",
   "execution_count": 403,
   "id": "120d9488",
   "metadata": {},
   "outputs": [],
   "source": [
    "def SHR(x: u32, n:u32) -> u32:\n",
    "    \"\"\"Logical right shift of x by n bits.\"\"\"\n",
    "    return (x >> n)"
   ]
  },
  {
   "cell_type": "markdown",
   "id": "3588af2b",
   "metadata": {},
   "source": [
    "#### 1.5 large Sigma 0\n",
    "$\\Sigma_{0}^{256}(x) \\;=\\; \\mathrm{ROTR}^2(x) \\;\\oplus\\; \\mathrm{ROTR}^{13}(x) \\;\\oplus\\; \\mathrm{ROTR}^{22}(x)$"
   ]
  },
  {
   "cell_type": "code",
   "execution_count": 404,
   "id": "d4313684",
   "metadata": {},
   "outputs": [],
   "source": [
    "def Sigma0(x: u32) -> u32:\n",
    "    return ROTR(x, u32(2)) ^ ROTR(x, u32(13)) ^ ROTR(x, u32(22))"
   ]
  },
  {
   "cell_type": "markdown",
   "id": "62bd63e7",
   "metadata": {},
   "source": [
    "#### 1.6 Large Sigma 1\n",
    "$\\Sigma_{1}^{256}(x) \\;=\\; \\mathrm{ROTR}^6(x) \\;\\oplus\\; \\mathrm{ROTR}^{11}(x) \\;\\oplus\\; \\mathrm{ROTR}^{25}(x)$"
   ]
  },
  {
   "cell_type": "code",
   "execution_count": 405,
   "id": "0486f288",
   "metadata": {},
   "outputs": [],
   "source": [
    "def Sigma1(x: u32) -> u32:\n",
    "    return ROTR(x, u32(6)) ^ ROTR(x, u32(11)) ^ ROTR(x, u32(25))"
   ]
  },
  {
   "cell_type": "markdown",
   "id": "b40972cc",
   "metadata": {},
   "source": [
    "#### 1.7 Small Sigma 0\n",
    "$\\sigma_{0}^{256}(x) = \\mathrm{ROTR}^{7}(x) \\;\\oplus\\; \\mathrm{ROTR}^{18}(x) \\;\\oplus\\; \\mathrm{SHR}^{3}(x)$"
   ]
  },
  {
   "cell_type": "code",
   "execution_count": 406,
   "id": "e580c571",
   "metadata": {},
   "outputs": [],
   "source": [
    "def sigma0(x: u32) -> u32:\n",
    "    return ROTR(x, u32(7)) ^ ROTR(x, u32(18)) ^ SHR(x, u32(3))"
   ]
  },
  {
   "cell_type": "markdown",
   "id": "8e9b03c2",
   "metadata": {},
   "source": [
    "#### 1.7 Small Sigma 1\n",
    "$\\sigma_{1}^{256}(x) = \\mathrm{ROTR}^{17}(x) \\;\\oplus\\; \\mathrm{ROTR}^{19}(x) \\;\\oplus\\; \\mathrm{SHR}^{10}(x)$"
   ]
  },
  {
   "cell_type": "code",
   "execution_count": 407,
   "id": "1e3be83b",
   "metadata": {},
   "outputs": [],
   "source": [
    "def sigma1(x: u32) -> u32:\n",
    "    return ROTR(x, u32(17)) ^ ROTR(x, u32(19)) ^ SHR(x, u32(10))"
   ]
  },
  {
   "cell_type": "markdown",
   "id": "7aa1e91a",
   "metadata": {},
   "source": [
    "## Problem 2: Fractional Parts of Cube Roots"
   ]
  },
  {
   "cell_type": "code",
   "execution_count": null,
   "id": "5617fa5c",
   "metadata": {},
   "outputs": [],
   "source": []
  },
  {
   "cell_type": "markdown",
   "id": "36d0a0a4",
   "metadata": {},
   "source": [
    "## Problem 3: Padding"
   ]
  },
  {
   "cell_type": "code",
   "execution_count": null,
   "id": "ecefcb69",
   "metadata": {},
   "outputs": [],
   "source": []
  },
  {
   "cell_type": "markdown",
   "id": "a6a1145d",
   "metadata": {},
   "source": [
    "## Problem 4: Hashes"
   ]
  },
  {
   "cell_type": "code",
   "execution_count": null,
   "id": "3e14b82c",
   "metadata": {},
   "outputs": [],
   "source": []
  },
  {
   "cell_type": "markdown",
   "id": "353e1168",
   "metadata": {},
   "source": [
    "## Problem 5: Passwords"
   ]
  },
  {
   "cell_type": "code",
   "execution_count": null,
   "id": "13e71e7b",
   "metadata": {},
   "outputs": [],
   "source": []
  }
 ],
 "metadata": {
  "kernelspec": {
   "display_name": "Python 3",
   "language": "python",
   "name": "python3"
  },
  "language_info": {
   "codemirror_mode": {
    "name": "ipython",
    "version": 3
   },
   "file_extension": ".py",
   "mimetype": "text/x-python",
   "name": "python",
   "nbconvert_exporter": "python",
   "pygments_lexer": "ipython3",
   "version": "3.12.5"
  }
 },
 "nbformat": 4,
 "nbformat_minor": 5
}
